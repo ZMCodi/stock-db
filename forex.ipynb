{
 "cells": [
  {
   "cell_type": "code",
   "execution_count": 1,
   "metadata": {},
   "outputs": [],
   "source": [
    "import yfinance as yf\n",
    "import pandas as pd\n",
    "import psycopg as pg\n",
    "from daily_insert.config import DB_CONFIG\n",
    "\n",
    "with pg.connect(**DB_CONFIG) as conn:\n",
    "    with conn.cursor() as cur:\n",
    "        cur.execute('SELECT DISTINCT(currency) FROM tickers')\n",
    "        currency = cur.fetchall()\n",
    "\n",
    "currency = [i[0] for i in currency]\n",
    "\n",
    "pairs = []\n",
    "for f in currency:\n",
    "    pair = [c for c in currency if c != f]\n",
    "    for p in pair:\n",
    "        pairs.append(f'{f}{p}=X')\n",
    "\n",
    "df_list = []\n",
    "for pair in pairs:\n",
    "    data = yf.download(pair, start='2020-01-01')\n",
    "    data = data.droplevel(1, axis=1)\n",
    "    data['currency_pair'] = f'{pair[:3]}/{pair[3:6]}'\n",
    "    df_list.append(data)\n",
    "\n",
    "df = pd.concat(df_list)\n",
    "\n",
    "mask = (df['High'] < df['Open']) | (df['High'] < df['Close']) | (df['Low'] > df['Open']) | (df['Low'] > df['Close'])\n",
    "clean = df[~mask].copy()\n",
    "temp = df[mask].copy()\n",
    "\n",
    "temp['High'] = temp[['Open', 'Close', 'High']].max(axis=1)\n",
    "temp['Low'] = temp[['Open', 'Close', 'Low']].min(axis=1)\n",
    "clean = pd.concat([clean, temp], axis=0)\n",
    "\n",
    "clean = clean.reset_index()\n",
    "clean.drop(columns=['Adj Close', 'Volume'], inplace=True)\n",
    "\n",
    "from io import StringIO\n",
    "\n",
    "buffer = StringIO()\n",
    "clean.to_csv(buffer, index=False, header=False)\n",
    "buffer.seek(0)\n",
    "\n",
    "with pg.connect(**DB_CONFIG) as conn:\n",
    "    # The COPY operation needs to be within a WITH block\n",
    "    with conn.cursor().copy(\"COPY daily_forex (date, close, high, low, open, currency_pair) FROM STDIN WITH CSV\") as copy:\n",
    "        copy.write(buffer.getvalue())\n",
    "    \n",
    "    conn.commit()"
   ]
  }
 ],
 "metadata": {
  "kernelspec": {
   "display_name": "finance",
   "language": "python",
   "name": "python3"
  },
  "language_info": {
   "codemirror_mode": {
    "name": "ipython",
    "version": 3
   },
   "file_extension": ".py",
   "mimetype": "text/x-python",
   "name": "python",
   "nbconvert_exporter": "python",
   "pygments_lexer": "ipython3",
   "version": "3.13.1"
  }
 },
 "nbformat": 4,
 "nbformat_minor": 2
}
